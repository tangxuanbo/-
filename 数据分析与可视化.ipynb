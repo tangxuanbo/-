{
 "cells": [
  {
   "cell_type": "code",
   "execution_count": 9,
   "metadata": {},
   "outputs": [],
   "source": [
    "#解决中文乱码\n",
    "import numpy as np \n",
    "import matplotlib.mlab as mlab \n",
    "import matplotlib.pyplot as plt\n",
    "plt.rcParams['font.sans-serif']=['SimHei']\n",
    "plt.rcParams['axes.unicode_minus']=False\n"
   ]
  },
  {
   "cell_type": "code",
   "execution_count": 11,
   "metadata": {},
   "outputs": [],
   "source": [
    "#删除奇数行\n",
    "nums=[i for i in range(2137) if i%2 !=0]\n",
    "data.drop(nums,inplace=True)"
   ]
  },
  {
   "cell_type": "code",
   "execution_count": 12,
   "metadata": {},
   "outputs": [
    {
     "name": "stdout",
     "output_type": "stream",
     "text": [
      "original data rowCount: 8253\n",
      "original data colCount: 27\n",
      "城市         object\n",
      "名称         object\n",
      "上牌时间        int64\n",
      "品牌         object\n",
      "表显里程      float64\n",
      "排量        float64\n",
      "变速箱        object\n",
      "原价        float64\n",
      "售价        float64\n",
      "排放标准       object\n",
      "过户次数        int64\n",
      "使用性质       object\n",
      "产权性质       object\n",
      "看车方式       object\n",
      "异常点         int64\n",
      "车长/宽/高     object\n",
      "轴距         object\n",
      "行李箱容积      object\n",
      "整备质量       object\n",
      "进气形式       object\n",
      "气缸数        object\n",
      "最大马力        int64\n",
      "最大扭矩       object\n",
      "燃料类型       object\n",
      "燃油标号       object\n",
      "供油方式       object\n",
      "车龄          int64\n",
      "dtype: object\n",
      "cleaned data rowCount: 5508\n",
      "cleaned data colCount: 5508\n"
     ]
    }
   ],
   "source": [
    "# 读文件\n",
    "import pandas as pd\n",
    "df = pd.read_csv(r'D:\\瓜子二手车.csv', sep=',')\n",
    "\n",
    "# 打印原始基本信息\n",
    "print(\"original data rowCount: %d\" % (df.shape[0]))\n",
    "print(\"original data colCount: %d\" % (df.shape[1]))\n",
    "print(df.dtypes)\n",
    "\n",
    "# 去除Nan数据和重复数据\n",
    "df.dropna(inplace=True)\n",
    "df.drop_duplicates(keep=\"first\", inplace=True)\n",
    "\n",
    "# 去除未知、暂无数据、车位、别墅\n",
    "df = df[df[\"城市\"] != \"\"]\n",
    "df = df[df[\"名称\"] != \"\"]\n",
    "df = df[df[\"上牌时间\"] != \"None\"]\n",
    "df = df[df[\"品牌\"] != \"\"]\n",
    "df = df[df[\"表显里程\"] != \"\"]\n",
    "df = df[df[\"排量\"] != \"\"]\n",
    "df = df[df[\"变速箱\"] != \"\"]\n",
    "df = df[df[\"售价\"] != \"\"]\n",
    "df = df[df[\"排放标准\"] != \"\"]\n",
    "df = df[df[\"过户次数\"] != \"\"]\n",
    "df = df[df[\"使用性质\"] != \"\"]\n",
    "df = df[df[\"产权性质\"] != \"\"]\n",
    "df = df[df[\"看车方式\"] != \"\"]\n",
    "df = df[df[\"异常点\"] != \"\"]\n",
    "df = df[df[\"车长/宽/高\"] != \"\"]\n",
    "df = df[df[\"轴距\"] != \"\"]\n",
    "#df = df[df[\"deal_time\"].str.len() <= 10]\n",
    "\n",
    "# 打印清洗后的基本信息\n",
    "print(\"cleaned data rowCount: %d\" % (df.shape[0]))\n",
    "print(\"cleaned data colCount: %d\" % (df.shape[0]))\n",
    "\n",
    "# 输出清洗完成的数据\n",
    "df.to_csv(\"D:\\瓜子二手车.csv\", index=False)"
   ]
  },
  {
   "cell_type": "code",
   "execution_count": 31,
   "metadata": {},
   "outputs": [
    {
     "data": {
      "text/plain": [
       "城市           0\n",
       "名称           0\n",
       "上牌时间         0\n",
       "品牌           0\n",
       "表显里程         0\n",
       "排量           0\n",
       "变速箱          0\n",
       "原价        2335\n",
       "售价           0\n",
       "排放标准         0\n",
       "过户次数         0\n",
       "使用性质         0\n",
       "产权性质         0\n",
       "看车方式         0\n",
       "异常点          0\n",
       "车长/宽/高       0\n",
       "轴距           0\n",
       "行李箱容积       33\n",
       "整备质量         0\n",
       "进气形式         0\n",
       "气缸数          0\n",
       "最大马力         0\n",
       "最大扭矩         0\n",
       "燃料类型         0\n",
       "燃油标号         0\n",
       "供油方式         0\n",
       "车龄           0\n",
       "dtype: int64"
      ]
     },
     "execution_count": 31,
     "metadata": {},
     "output_type": "execute_result"
    }
   ],
   "source": [
    "#缺失值\n",
    "data.isnull().sum()"
   ]
  },
  {
   "cell_type": "code",
   "execution_count": 32,
   "metadata": {},
   "outputs": [
    {
     "data": {
      "text/plain": [
       "7185"
      ]
     },
     "execution_count": 32,
     "metadata": {},
     "output_type": "execute_result"
    }
   ],
   "source": [
    "len(data)"
   ]
  },
  {
   "cell_type": "code",
   "execution_count": 33,
   "metadata": {},
   "outputs": [
    {
     "data": {
      "text/plain": [
       "106"
      ]
     },
     "execution_count": 33,
     "metadata": {},
     "output_type": "execute_result"
    }
   ],
   "source": [
    "#杭州二手车\n",
    "(data.城市.str.contains('杭州')).sum()"
   ]
  },
  {
   "cell_type": "code",
   "execution_count": 34,
   "metadata": {},
   "outputs": [
    {
     "data": {
      "text/html": [
       "<div>\n",
       "<style scoped>\n",
       "    .dataframe tbody tr th:only-of-type {\n",
       "        vertical-align: middle;\n",
       "    }\n",
       "\n",
       "    .dataframe tbody tr th {\n",
       "        vertical-align: top;\n",
       "    }\n",
       "\n",
       "    .dataframe thead th {\n",
       "        text-align: right;\n",
       "    }\n",
       "</style>\n",
       "<table border=\"1\" class=\"dataframe\">\n",
       "  <thead>\n",
       "    <tr style=\"text-align: right;\">\n",
       "      <th></th>\n",
       "      <th>城市</th>\n",
       "      <th>名称</th>\n",
       "      <th>上牌时间</th>\n",
       "      <th>品牌</th>\n",
       "      <th>表显里程</th>\n",
       "      <th>排量</th>\n",
       "      <th>变速箱</th>\n",
       "      <th>原价</th>\n",
       "      <th>售价</th>\n",
       "      <th>排放标准</th>\n",
       "      <th>...</th>\n",
       "      <th>行李箱容积</th>\n",
       "      <th>整备质量</th>\n",
       "      <th>进气形式</th>\n",
       "      <th>气缸数</th>\n",
       "      <th>最大马力</th>\n",
       "      <th>最大扭矩</th>\n",
       "      <th>燃料类型</th>\n",
       "      <th>燃油标号</th>\n",
       "      <th>供油方式</th>\n",
       "      <th>车龄</th>\n",
       "    </tr>\n",
       "  </thead>\n",
       "  <tbody>\n",
       "    <tr>\n",
       "      <th>2268</th>\n",
       "      <td>上海</td>\n",
       "      <td>别克 英朗 2013款 GT 1.6L 自动时尚版</td>\n",
       "      <td>2013</td>\n",
       "      <td>别克</td>\n",
       "      <td>28.15</td>\n",
       "      <td>1.6</td>\n",
       "      <td>自动</td>\n",
       "      <td>NaN</td>\n",
       "      <td>5.20</td>\n",
       "      <td>国五</td>\n",
       "      <td>...</td>\n",
       "      <td>455</td>\n",
       "      <td>1410</td>\n",
       "      <td>自然吸气</td>\n",
       "      <td>4缸</td>\n",
       "      <td>121</td>\n",
       "      <td>150</td>\n",
       "      <td>汽油</td>\n",
       "      <td>92号</td>\n",
       "      <td>多点电喷</td>\n",
       "      <td>8</td>\n",
       "    </tr>\n",
       "    <tr>\n",
       "      <th>5744</th>\n",
       "      <td>重庆</td>\n",
       "      <td>雷克萨斯NX 2015款 200t 全驱 锋尚版</td>\n",
       "      <td>2015</td>\n",
       "      <td>雷克萨斯NX</td>\n",
       "      <td>20.00</td>\n",
       "      <td>2.0</td>\n",
       "      <td>自动</td>\n",
       "      <td>43.20</td>\n",
       "      <td>19.88</td>\n",
       "      <td>国五</td>\n",
       "      <td>...</td>\n",
       "      <td>500</td>\n",
       "      <td>1810</td>\n",
       "      <td>涡轮增压</td>\n",
       "      <td>4缸</td>\n",
       "      <td>238</td>\n",
       "      <td>350</td>\n",
       "      <td>汽油</td>\n",
       "      <td>95号</td>\n",
       "      <td>混合喷射</td>\n",
       "      <td>6</td>\n",
       "    </tr>\n",
       "    <tr>\n",
       "      <th>2582</th>\n",
       "      <td>东莞</td>\n",
       "      <td>别克GL8 2011款 3.0L XT豪华商务旗舰版</td>\n",
       "      <td>2011</td>\n",
       "      <td>别克GL8</td>\n",
       "      <td>20.00</td>\n",
       "      <td>3.0</td>\n",
       "      <td>自动</td>\n",
       "      <td>42.12</td>\n",
       "      <td>12.98</td>\n",
       "      <td>国四</td>\n",
       "      <td>...</td>\n",
       "      <td>-</td>\n",
       "      <td>1930</td>\n",
       "      <td>自然吸气</td>\n",
       "      <td>6缸</td>\n",
       "      <td>258</td>\n",
       "      <td>290</td>\n",
       "      <td>汽油</td>\n",
       "      <td>92号</td>\n",
       "      <td>直喷</td>\n",
       "      <td>10</td>\n",
       "    </tr>\n",
       "    <tr>\n",
       "      <th>696</th>\n",
       "      <td>重庆</td>\n",
       "      <td>宝马5系 2013款 520Li 典雅型</td>\n",
       "      <td>2013</td>\n",
       "      <td>宝马5系</td>\n",
       "      <td>20.00</td>\n",
       "      <td>2.0</td>\n",
       "      <td>自动</td>\n",
       "      <td>46.52</td>\n",
       "      <td>17.60</td>\n",
       "      <td>国四</td>\n",
       "      <td>...</td>\n",
       "      <td>520</td>\n",
       "      <td>1725</td>\n",
       "      <td>涡轮增压</td>\n",
       "      <td>4缸</td>\n",
       "      <td>184</td>\n",
       "      <td>270</td>\n",
       "      <td>汽油</td>\n",
       "      <td>95号</td>\n",
       "      <td>直喷</td>\n",
       "      <td>8</td>\n",
       "    </tr>\n",
       "    <tr>\n",
       "      <th>666</th>\n",
       "      <td>苏州</td>\n",
       "      <td>宝马5系 2011款 535i 豪华运动型(进口)</td>\n",
       "      <td>2011</td>\n",
       "      <td>宝马5系</td>\n",
       "      <td>20.00</td>\n",
       "      <td>3.0</td>\n",
       "      <td>自动</td>\n",
       "      <td>NaN</td>\n",
       "      <td>18.00</td>\n",
       "      <td>国四</td>\n",
       "      <td>...</td>\n",
       "      <td>520</td>\n",
       "      <td>1775</td>\n",
       "      <td>涡轮增压</td>\n",
       "      <td>6缸</td>\n",
       "      <td>306</td>\n",
       "      <td>400</td>\n",
       "      <td>汽油</td>\n",
       "      <td>95号</td>\n",
       "      <td>直喷</td>\n",
       "      <td>10</td>\n",
       "    </tr>\n",
       "    <tr>\n",
       "      <th>...</th>\n",
       "      <td>...</td>\n",
       "      <td>...</td>\n",
       "      <td>...</td>\n",
       "      <td>...</td>\n",
       "      <td>...</td>\n",
       "      <td>...</td>\n",
       "      <td>...</td>\n",
       "      <td>...</td>\n",
       "      <td>...</td>\n",
       "      <td>...</td>\n",
       "      <td>...</td>\n",
       "      <td>...</td>\n",
       "      <td>...</td>\n",
       "      <td>...</td>\n",
       "      <td>...</td>\n",
       "      <td>...</td>\n",
       "      <td>...</td>\n",
       "      <td>...</td>\n",
       "      <td>...</td>\n",
       "      <td>...</td>\n",
       "      <td>...</td>\n",
       "    </tr>\n",
       "    <tr>\n",
       "      <th>6038</th>\n",
       "      <td>上海</td>\n",
       "      <td>玛莎拉蒂Ghibli 2021款 2.0T MHEV</td>\n",
       "      <td>2021</td>\n",
       "      <td>玛莎拉蒂Ghibli</td>\n",
       "      <td>0.01</td>\n",
       "      <td>2.0</td>\n",
       "      <td>自动</td>\n",
       "      <td>NaN</td>\n",
       "      <td>73.98</td>\n",
       "      <td>国六</td>\n",
       "      <td>...</td>\n",
       "      <td>-</td>\n",
       "      <td>-</td>\n",
       "      <td>涡轮增压</td>\n",
       "      <td>4缸</td>\n",
       "      <td>330</td>\n",
       "      <td>450</td>\n",
       "      <td>汽油+48V轻混系统</td>\n",
       "      <td>95号</td>\n",
       "      <td>直喷</td>\n",
       "      <td>0</td>\n",
       "    </tr>\n",
       "    <tr>\n",
       "      <th>1170</th>\n",
       "      <td>郑州</td>\n",
       "      <td>奔驰E级 2021款 改款 E 300 L 豪华型</td>\n",
       "      <td>2021</td>\n",
       "      <td>奔驰E级</td>\n",
       "      <td>0.01</td>\n",
       "      <td>2.0</td>\n",
       "      <td>自动</td>\n",
       "      <td>NaN</td>\n",
       "      <td>50.50</td>\n",
       "      <td>国六</td>\n",
       "      <td>...</td>\n",
       "      <td>-</td>\n",
       "      <td>-</td>\n",
       "      <td>涡轮增压</td>\n",
       "      <td>4缸</td>\n",
       "      <td>258</td>\n",
       "      <td>370</td>\n",
       "      <td>汽油</td>\n",
       "      <td>95号</td>\n",
       "      <td>直喷</td>\n",
       "      <td>0</td>\n",
       "    </tr>\n",
       "    <tr>\n",
       "      <th>6010</th>\n",
       "      <td>石家</td>\n",
       "      <td>马自达CX-4 2020款 2.0L 自动两驱蓝天品位版</td>\n",
       "      <td>2020</td>\n",
       "      <td>马自达CX-4</td>\n",
       "      <td>0.01</td>\n",
       "      <td>2.0</td>\n",
       "      <td>自动</td>\n",
       "      <td>18.43</td>\n",
       "      <td>14.80</td>\n",
       "      <td>国六</td>\n",
       "      <td>...</td>\n",
       "      <td>-</td>\n",
       "      <td>1493</td>\n",
       "      <td>自然吸气</td>\n",
       "      <td>4缸</td>\n",
       "      <td>158</td>\n",
       "      <td>202</td>\n",
       "      <td>汽油</td>\n",
       "      <td>92号</td>\n",
       "      <td>直喷</td>\n",
       "      <td>1</td>\n",
       "    </tr>\n",
       "    <tr>\n",
       "      <th>1862</th>\n",
       "      <td>石家</td>\n",
       "      <td>本田XR-V 2021款 220TURBO CVT舒适版</td>\n",
       "      <td>2021</td>\n",
       "      <td>本田XR-V</td>\n",
       "      <td>0.01</td>\n",
       "      <td>1.5</td>\n",
       "      <td>自动</td>\n",
       "      <td>16.27</td>\n",
       "      <td>14.20</td>\n",
       "      <td>国六</td>\n",
       "      <td>...</td>\n",
       "      <td>-</td>\n",
       "      <td>1385</td>\n",
       "      <td>涡轮增压</td>\n",
       "      <td>4缸</td>\n",
       "      <td>177</td>\n",
       "      <td>220</td>\n",
       "      <td>汽油</td>\n",
       "      <td>92号</td>\n",
       "      <td>直喷</td>\n",
       "      <td>0</td>\n",
       "    </tr>\n",
       "    <tr>\n",
       "      <th>6041</th>\n",
       "      <td>上海</td>\n",
       "      <td>玛莎拉蒂Ghibli 2021款 2.0T MHEV</td>\n",
       "      <td>2021</td>\n",
       "      <td>玛莎拉蒂Ghibli</td>\n",
       "      <td>0.01</td>\n",
       "      <td>2.0</td>\n",
       "      <td>自动</td>\n",
       "      <td>79.15</td>\n",
       "      <td>73.98</td>\n",
       "      <td>国六</td>\n",
       "      <td>...</td>\n",
       "      <td>-</td>\n",
       "      <td>-</td>\n",
       "      <td>涡轮增压</td>\n",
       "      <td>4缸</td>\n",
       "      <td>330</td>\n",
       "      <td>450</td>\n",
       "      <td>汽油+48V轻混系统</td>\n",
       "      <td>95号</td>\n",
       "      <td>直喷</td>\n",
       "      <td>0</td>\n",
       "    </tr>\n",
       "  </tbody>\n",
       "</table>\n",
       "<p>7185 rows × 27 columns</p>\n",
       "</div>"
      ],
      "text/plain": [
       "      城市                            名称  上牌时间          品牌   表显里程   排量 变速箱  \\\n",
       "2268  上海     别克 英朗 2013款 GT 1.6L 自动时尚版  2013          别克  28.15  1.6  自动   \n",
       "5744  重庆      雷克萨斯NX 2015款 200t 全驱 锋尚版  2015      雷克萨斯NX  20.00  2.0  自动   \n",
       "2582  东莞    别克GL8 2011款 3.0L XT豪华商务旗舰版  2011       别克GL8  20.00  3.0  自动   \n",
       "696   重庆          宝马5系 2013款 520Li 典雅型  2013        宝马5系  20.00  2.0  自动   \n",
       "666   苏州     宝马5系 2011款 535i 豪华运动型(进口)  2011        宝马5系  20.00  3.0  自动   \n",
       "...   ..                           ...   ...         ...    ...  ...  ..   \n",
       "6038  上海    玛莎拉蒂Ghibli 2021款 2.0T MHEV  2021  玛莎拉蒂Ghibli   0.01  2.0  自动   \n",
       "1170  郑州     奔驰E级 2021款 改款 E 300 L 豪华型  2021        奔驰E级   0.01  2.0  自动   \n",
       "6010  石家  马自达CX-4 2020款 2.0L 自动两驱蓝天品位版  2020     马自达CX-4   0.01  2.0  自动   \n",
       "1862  石家  本田XR-V 2021款 220TURBO CVT舒适版  2021      本田XR-V   0.01  1.5  自动   \n",
       "6041  上海    玛莎拉蒂Ghibli 2021款 2.0T MHEV  2021  玛莎拉蒂Ghibli   0.01  2.0  自动   \n",
       "\n",
       "         原价     售价 排放标准  ...  行李箱容积  整备质量  进气形式 气缸数  最大马力 最大扭矩        燃料类型  \\\n",
       "2268    NaN   5.20   国五  ...    455  1410  自然吸气  4缸   121  150          汽油   \n",
       "5744  43.20  19.88   国五  ...    500  1810  涡轮增压  4缸   238  350          汽油   \n",
       "2582  42.12  12.98   国四  ...      -  1930  自然吸气  6缸   258  290          汽油   \n",
       "696   46.52  17.60   国四  ...    520  1725  涡轮增压  4缸   184  270          汽油   \n",
       "666     NaN  18.00   国四  ...    520  1775  涡轮增压  6缸   306  400          汽油   \n",
       "...     ...    ...  ...  ...    ...   ...   ...  ..   ...  ...         ...   \n",
       "6038    NaN  73.98   国六  ...      -     -  涡轮增压  4缸   330  450  汽油+48V轻混系统   \n",
       "1170    NaN  50.50   国六  ...      -     -  涡轮增压  4缸   258  370          汽油   \n",
       "6010  18.43  14.80   国六  ...      -  1493  自然吸气  4缸   158  202          汽油   \n",
       "1862  16.27  14.20   国六  ...      -  1385  涡轮增压  4缸   177  220          汽油   \n",
       "6041  79.15  73.98   国六  ...      -     -  涡轮增压  4缸   330  450  汽油+48V轻混系统   \n",
       "\n",
       "     燃油标号  供油方式  车龄  \n",
       "2268  92号  多点电喷   8  \n",
       "5744  95号  混合喷射   6  \n",
       "2582  92号    直喷  10  \n",
       "696   95号    直喷   8  \n",
       "666   95号    直喷  10  \n",
       "...   ...   ...  ..  \n",
       "6038  95号    直喷   0  \n",
       "1170  95号    直喷   0  \n",
       "6010  92号    直喷   1  \n",
       "1862  92号    直喷   0  \n",
       "6041  95号    直喷   0  \n",
       "\n",
       "[7185 rows x 27 columns]"
      ]
     },
     "execution_count": 34,
     "metadata": {},
     "output_type": "execute_result"
    }
   ],
   "source": [
    "#里程从大到小\n",
    "data.sort_values('表显里程',ascending=False)"
   ]
  },
  {
   "cell_type": "code",
   "execution_count": 35,
   "metadata": {},
   "outputs": [],
   "source": [
    "#重新排序Index,并删除原索引\n",
    "data = data.reset_index(drop=True)"
   ]
  },
  {
   "cell_type": "code",
   "execution_count": 36,
   "metadata": {},
   "outputs": [
    {
     "data": {
      "text/html": [
       "<div>\n",
       "<style scoped>\n",
       "    .dataframe tbody tr th:only-of-type {\n",
       "        vertical-align: middle;\n",
       "    }\n",
       "\n",
       "    .dataframe tbody tr th {\n",
       "        vertical-align: top;\n",
       "    }\n",
       "\n",
       "    .dataframe thead th {\n",
       "        text-align: right;\n",
       "    }\n",
       "</style>\n",
       "<table border=\"1\" class=\"dataframe\">\n",
       "  <thead>\n",
       "    <tr style=\"text-align: right;\">\n",
       "      <th></th>\n",
       "      <th>上牌时间</th>\n",
       "      <th>表显里程</th>\n",
       "      <th>排量</th>\n",
       "      <th>原价</th>\n",
       "      <th>售价</th>\n",
       "      <th>过户次数</th>\n",
       "      <th>异常点</th>\n",
       "      <th>最大马力</th>\n",
       "      <th>车龄</th>\n",
       "    </tr>\n",
       "  </thead>\n",
       "  <tbody>\n",
       "    <tr>\n",
       "      <th>count</th>\n",
       "      <td>7185.000000</td>\n",
       "      <td>7185.000000</td>\n",
       "      <td>7185.000000</td>\n",
       "      <td>4850.000000</td>\n",
       "      <td>7185.000000</td>\n",
       "      <td>7185.000000</td>\n",
       "      <td>7185.0</td>\n",
       "      <td>7185.000000</td>\n",
       "      <td>7185.000000</td>\n",
       "    </tr>\n",
       "    <tr>\n",
       "      <th>mean</th>\n",
       "      <td>2014.546138</td>\n",
       "      <td>6.895140</td>\n",
       "      <td>1.773194</td>\n",
       "      <td>21.516584</td>\n",
       "      <td>9.649905</td>\n",
       "      <td>0.692136</td>\n",
       "      <td>0.0</td>\n",
       "      <td>150.302853</td>\n",
       "      <td>6.453862</td>\n",
       "    </tr>\n",
       "    <tr>\n",
       "      <th>std</th>\n",
       "      <td>2.943911</td>\n",
       "      <td>3.822795</td>\n",
       "      <td>0.681053</td>\n",
       "      <td>16.554539</td>\n",
       "      <td>7.976093</td>\n",
       "      <td>0.951570</td>\n",
       "      <td>0.0</td>\n",
       "      <td>45.850906</td>\n",
       "      <td>2.943911</td>\n",
       "    </tr>\n",
       "    <tr>\n",
       "      <th>min</th>\n",
       "      <td>2005.000000</td>\n",
       "      <td>0.010000</td>\n",
       "      <td>1.000000</td>\n",
       "      <td>3.580000</td>\n",
       "      <td>0.780000</td>\n",
       "      <td>0.000000</td>\n",
       "      <td>0.0</td>\n",
       "      <td>61.000000</td>\n",
       "      <td>0.000000</td>\n",
       "    </tr>\n",
       "    <tr>\n",
       "      <th>25%</th>\n",
       "      <td>2012.000000</td>\n",
       "      <td>4.100000</td>\n",
       "      <td>1.500000</td>\n",
       "      <td>12.570000</td>\n",
       "      <td>5.080000</td>\n",
       "      <td>0.000000</td>\n",
       "      <td>0.0</td>\n",
       "      <td>116.000000</td>\n",
       "      <td>4.000000</td>\n",
       "    </tr>\n",
       "    <tr>\n",
       "      <th>50%</th>\n",
       "      <td>2015.000000</td>\n",
       "      <td>6.450000</td>\n",
       "      <td>1.600000</td>\n",
       "      <td>16.260000</td>\n",
       "      <td>7.380000</td>\n",
       "      <td>0.000000</td>\n",
       "      <td>0.0</td>\n",
       "      <td>140.000000</td>\n",
       "      <td>6.000000</td>\n",
       "    </tr>\n",
       "    <tr>\n",
       "      <th>75%</th>\n",
       "      <td>2017.000000</td>\n",
       "      <td>9.100000</td>\n",
       "      <td>2.000000</td>\n",
       "      <td>25.810000</td>\n",
       "      <td>11.580000</td>\n",
       "      <td>1.000000</td>\n",
       "      <td>0.0</td>\n",
       "      <td>170.000000</td>\n",
       "      <td>9.000000</td>\n",
       "    </tr>\n",
       "    <tr>\n",
       "      <th>max</th>\n",
       "      <td>2021.000000</td>\n",
       "      <td>28.150000</td>\n",
       "      <td>20.000000</td>\n",
       "      <td>388.600000</td>\n",
       "      <td>99.990000</td>\n",
       "      <td>9.000000</td>\n",
       "      <td>0.0</td>\n",
       "      <td>560.000000</td>\n",
       "      <td>16.000000</td>\n",
       "    </tr>\n",
       "  </tbody>\n",
       "</table>\n",
       "</div>"
      ],
      "text/plain": [
       "              上牌时间         表显里程           排量           原价           售价  \\\n",
       "count  7185.000000  7185.000000  7185.000000  4850.000000  7185.000000   \n",
       "mean   2014.546138     6.895140     1.773194    21.516584     9.649905   \n",
       "std       2.943911     3.822795     0.681053    16.554539     7.976093   \n",
       "min    2005.000000     0.010000     1.000000     3.580000     0.780000   \n",
       "25%    2012.000000     4.100000     1.500000    12.570000     5.080000   \n",
       "50%    2015.000000     6.450000     1.600000    16.260000     7.380000   \n",
       "75%    2017.000000     9.100000     2.000000    25.810000    11.580000   \n",
       "max    2021.000000    28.150000    20.000000   388.600000    99.990000   \n",
       "\n",
       "              过户次数     异常点         最大马力           车龄  \n",
       "count  7185.000000  7185.0  7185.000000  7185.000000  \n",
       "mean      0.692136     0.0   150.302853     6.453862  \n",
       "std       0.951570     0.0    45.850906     2.943911  \n",
       "min       0.000000     0.0    61.000000     0.000000  \n",
       "25%       0.000000     0.0   116.000000     4.000000  \n",
       "50%       0.000000     0.0   140.000000     6.000000  \n",
       "75%       1.000000     0.0   170.000000     9.000000  \n",
       "max       9.000000     0.0   560.000000    16.000000  "
      ]
     },
     "execution_count": 36,
     "metadata": {},
     "output_type": "execute_result"
    }
   ],
   "source": [
    "#描述性数据\n",
    "data.describe()"
   ]
  },
  {
   "cell_type": "code",
   "execution_count": 37,
   "metadata": {},
   "outputs": [
    {
     "data": {
      "text/plain": [
       "<AxesSubplot:title={'center':'行驶里程直方图'}, ylabel='Frequency'>"
      ]
     },
     "execution_count": 37,
     "metadata": {},
     "output_type": "execute_result"
    },
    {
     "data": {
      "image/png": "[encoded data removed]",
      "text/plain": [
       "<Figure size 1080x432 with 1 Axes>"
      ]
     },
     "metadata": {
      "needs_background": "light"
     },
     "output_type": "display_data"
    }
   ],
   "source": [
    "sub=[0,3,6,7,12,20]\n",
    "y=[0,10,20,30,40,50,60,70,80,90]\n",
    "#pb.cut(data.表显里程，sub).value_counts().plit.bar(rot=0,title='行驶里程分析')\n",
    "#rot是X轴进行旋转\n",
    "data['表显里程'].plot(kind='hist',bins=80,figsize=(15,6),xlim=[0,20],title='行驶里程直方图')\n",
    "#,color=['slateblue','darkslateblue','mediumslateblue','mediumpurple','indigo'],alpha=0.6"
   ]
  },
  {
   "cell_type": "code",
   "execution_count": 38,
   "metadata": {},
   "outputs": [
    {
     "data": {
      "text/plain": [
       "<Figure size 360x504 with 0 Axes>"
      ]
     },
     "metadata": {},
     "output_type": "display_data"
    },
    {
     "data": {
      "image/png": "[encoded data removed]",
      "text/plain": [
       "<Figure size 432x288 with 1 Axes>"
      ]
     },
     "metadata": {
      "needs_background": "light"
     },
     "output_type": "display_data"
    }
   ],
   "source": [
    "import scipy.io.wavfile as wav\n",
    "import matplotlib.pyplot as plt\n",
    "plt.figure(figsize=(5,7))\n",
    "fig = plt.figure()\n",
    "plt.boxplot(x=data['表显里程'],showmeans=True,meanline=True)\n",
    "plt.title('行驶里程箱线图')\n",
    "plt.ylabel('行驶里程/万公里')\n",
    "plt.show()"
   ]
  },
  {
   "cell_type": "code",
   "execution_count": 39,
   "metadata": {},
   "outputs": [
    {
     "data": {
      "text/plain": [
       "<AxesSubplot:title={'center':'价格分析'}>"
      ]
     },
     "execution_count": 39,
     "metadata": {},
     "output_type": "execute_result"
    },
    {
     "data": {
      "image/png": "[encoded data removed]",
      "text/plain": [
       "<Figure size 432x288 with 1 Axes>"
      ]
     },
     "metadata": {
      "needs_background": "light"
     },
     "output_type": "display_data"
    }
   ],
   "source": [
    "sub=[0,3,6,9,12,15,18,21,24,27,30,33,36]\n",
    "pd.cut(data.售价,sub).value_counts().plot.bar(rot=30,title='价格分析')"
   ]
  },
  {
   "cell_type": "code",
   "execution_count": 40,
   "metadata": {},
   "outputs": [
    {
     "data": {
      "text/plain": [
       "<AxesSubplot:title={'center':'二手车各价格区间在售数量图'}, ylabel='Frequency'>"
      ]
     },
     "execution_count": 40,
     "metadata": {},
     "output_type": "execute_result"
    },
    {
     "data": {
      "image/png": "[encoded data removed]",
      "text/plain": [
       "<Figure size 720x576 with 1 Axes>"
      ]
     },
     "metadata": {
      "needs_background": "light"
     },
     "output_type": "display_data"
    }
   ],
   "source": [
    "data['售价'].plot(kind='hist',bins=60,figsize=(10,8),density=True,sharex=False,xlim=[0,20],title='二手车各价格区间在售数量图')\n",
    "#改成饼图"
   ]
  },
  {
   "cell_type": "code",
   "execution_count": 41,
   "metadata": {},
   "outputs": [
    {
     "data": {
      "image/png": "[encoded data removed]",
      "text/plain": [
       "<Figure size 432x288 with 1 Axes>"
      ]
     },
     "metadata": {},
     "output_type": "display_data"
    }
   ],
   "source": [
    "import numpy as np\n",
    "import matplotlib.pyplot as plt\n",
    "labels = '2.5↓','2.5','5','7.5','10','12.5','15','17.5','20','22.5'\n",
    "fracs = [4,12,17,25,12.5,9.5,8,5,4,3]\n",
    "explode = [0,0,0,0,0,0,0,0,0,0] # 0.1 凸出这部分，\n",
    "plt.axes(aspect=1) # set this , Figure is round, otherwise it is an ellipse\n",
    "# autopct ，show percet\n",
    "plt.pie(x=fracs,labels=labels,explode=explode,autopct='%3.1f %%',\n",
    "    shadow=False,labeldistance=1.2,startangle=90,pctdistance=0.8 )\n",
    "'''\n",
    "labeldistance，文本的位置离远点有多远，1.1指1.1倍半径的位置\n",
    "autopct，圆里面的文本格式，%3.1f%%表示小数有三位，整数有一位的浮点数\n",
    "shadow，饼是否有阴影\n",
    "startangle，起始角度，0，表示从0开始逆时针转，为第一块。一般选择从90度开始比较好看\n",
    "pctdistance，百分比的text离圆心的距离\n",
    "patches, l_texts, p_texts，为了得到饼图的返回值，p_texts饼图内部文本的，l_texts饼图外label的文本\n",
    "'''\n",
    "plt.show()"
   ]
  },
  {
   "cell_type": "code",
   "execution_count": 42,
   "metadata": {},
   "outputs": [
    {
     "data": {
      "image/png": "[encoded data removed]",
      "text/plain": [
       "<Figure size 432x288 with 1 Axes>"
      ]
     },
     "metadata": {
      "needs_background": "light"
     },
     "output_type": "display_data"
    }
   ],
   "source": [
    " # 品牌分析\n",
    "data['品牌'] = data.名称.map(lambda x:x.split(' ')[0])\n",
    "# 品牌排名前20\n",
    "data.品牌.value_counts()[:20].plot.barh(title='品牌排名分析')\n",
    "plt.show()"
   ]
  },
  {
   "cell_type": "code",
   "execution_count": 43,
   "metadata": {},
   "outputs": [
    {
     "data": {
      "text/html": [
       "<div>\n",
       "<style scoped>\n",
       "    .dataframe tbody tr th:only-of-type {\n",
       "        vertical-align: middle;\n",
       "    }\n",
       "\n",
       "    .dataframe tbody tr th {\n",
       "        vertical-align: top;\n",
       "    }\n",
       "\n",
       "    .dataframe thead th {\n",
       "        text-align: right;\n",
       "    }\n",
       "</style>\n",
       "<table border=\"1\" class=\"dataframe\">\n",
       "  <thead>\n",
       "    <tr style=\"text-align: right;\">\n",
       "      <th></th>\n",
       "      <th>mean</th>\n",
       "      <th>max</th>\n",
       "      <th>median</th>\n",
       "      <th>count</th>\n",
       "    </tr>\n",
       "    <tr>\n",
       "      <th>品牌</th>\n",
       "      <th></th>\n",
       "      <th></th>\n",
       "      <th></th>\n",
       "      <th></th>\n",
       "    </tr>\n",
       "  </thead>\n",
       "  <tbody>\n",
       "    <tr>\n",
       "      <th>雪佛兰</th>\n",
       "      <td>6.708396</td>\n",
       "      <td>18.00</td>\n",
       "      <td>6.465</td>\n",
       "      <td>318</td>\n",
       "    </tr>\n",
       "    <tr>\n",
       "      <th>大众</th>\n",
       "      <td>7.517618</td>\n",
       "      <td>18.66</td>\n",
       "      <td>7.230</td>\n",
       "      <td>1268</td>\n",
       "    </tr>\n",
       "    <tr>\n",
       "      <th>日产</th>\n",
       "      <td>6.635705</td>\n",
       "      <td>19.02</td>\n",
       "      <td>6.200</td>\n",
       "      <td>447</td>\n",
       "    </tr>\n",
       "  </tbody>\n",
       "</table>\n",
       "</div>"
      ],
      "text/plain": [
       "         mean    max  median  count\n",
       "品牌                                 \n",
       "雪佛兰  6.708396  18.00   6.465    318\n",
       "大众   7.517618  18.66   7.230   1268\n",
       "日产   6.635705  19.02   6.200    447"
      ]
     },
     "execution_count": 43,
     "metadata": {},
     "output_type": "execute_result"
    }
   ],
   "source": [
    "data['表显里程'].groupby(data['品牌']).agg(['mean',\n",
    "                                   'max','median','count']).loc[['雪佛兰','大众','日产']]"
   ]
  },
  {
   "cell_type": "code",
   "execution_count": 44,
   "metadata": {},
   "outputs": [
    {
     "data": {
      "text/plain": [
       "<AxesSubplot:xlabel='品牌'>"
      ]
     },
     "execution_count": 44,
     "metadata": {},
     "output_type": "execute_result"
    },
    {
     "data": {
      "image/png": "[encoded data removed]",
      "text/plain": [
       "<Figure size 432x288 with 1 Axes>"
      ]
     },
     "metadata": {
      "needs_background": "light"
     },
     "output_type": "display_data"
    }
   ],
   "source": [
    "data['表显里程'].groupby(data['品牌']).agg(['mean','median']).loc[['雪佛兰','大众','日产']].plot(kind='bar',rot=30)"
   ]
  },
  {
   "cell_type": "code",
   "execution_count": 45,
   "metadata": {},
   "outputs": [
    {
     "data": {
      "text/plain": [
       "城市  品牌   \n",
       "上海  上汽大通      2\n",
       "    丰田        2\n",
       "    别克       11\n",
       "    大众       28\n",
       "    大众CC      1\n",
       "             ..\n",
       "鞍山  大众        3\n",
       "    奥迪A3      1\n",
       "齐齐  奥迪A4L     3\n",
       "    日产        2\n",
       "    本田        1\n",
       "Name: 品牌, Length: 2006, dtype: int64"
      ]
     },
     "execution_count": 45,
     "metadata": {},
     "output_type": "execute_result"
    }
   ],
   "source": [
    "#地区 品牌 数量\n",
    "data.groupby(['城市','品牌'])['品牌'].count()"
   ]
  },
  {
   "cell_type": "code",
   "execution_count": 46,
   "metadata": {},
   "outputs": [
    {
     "name": "stdout",
     "output_type": "stream",
     "text": [
      "(3897, 27)\n",
      "top10二手汽车占总二手车比例：54.24%\n"
     ]
    }
   ],
   "source": [
    "top10=['大众','福特','丰田','宝马5系','别克','上汽大通','奔驰','雪佛兰','现代','日产']\n",
    "data_top10=data[data['品牌'].isin(top10)]\n",
    "print(data_top10.shape)\n",
    "print('top10二手汽车占总二手车比例：%.2f%%'%((data_top10.shape[0]/data.shape[0])*100))"
   ]
  },
  {
   "cell_type": "code",
   "execution_count": 47,
   "metadata": {},
   "outputs": [
    {
     "data": {
      "image/png": "[encoded data removed]",
      "text/plain": [
       "<Figure size 432x288 with 1 Axes>"
      ]
     },
     "metadata": {},
     "output_type": "display_data"
    }
   ],
   "source": [
    "# 饼图\n",
    "# 横纵轴标准化处理，保证饼图是正圆，默认为椭圆\n",
    "plt.axes(aspect='equal')\n",
    "plt.pie(data_top10['品牌'].value_counts(),explode=[0.1,0.1,0.1,0.1,0.1,0.1,0.1,0.1,0.1,0.1],startangle=30,labels=top10,autopct='%.2f%%',radius=2)\n",
    "plt.show()"
   ]
  },
  {
   "cell_type": "code",
   "execution_count": 48,
   "metadata": {
    "scrolled": false
   },
   "outputs": [
    {
     "data": {
      "text/plain": [
       "Text(0, 0.5, '车辆总数')"
      ]
     },
     "execution_count": 48,
     "metadata": {},
     "output_type": "execute_result"
    },
    {
     "data": {
      "image/png": "[encoded data removed]",
      "text/plain": [
       "<Figure size 432x288 with 1 Axes>"
      ]
     },
     "metadata": {
      "needs_background": "light"
     },
     "output_type": "display_data"
    }
   ],
   "source": [
    "# 车龄分析\n",
    "data['上牌时间'].groupby(data['车龄']).count().plot(kind='bar',rot=0,title='二手车已使用年数占比图')\n",
    "plt.xlabel(\"车龄\")\n",
    "plt.ylabel(\"车辆总数\")"
   ]
  },
  {
   "cell_type": "code",
   "execution_count": 49,
   "metadata": {
    "scrolled": false
   },
   "outputs": [
    {
     "data": {
      "text/html": [
       "<div>\n",
       "<style scoped>\n",
       "    .dataframe tbody tr th:only-of-type {\n",
       "        vertical-align: middle;\n",
       "    }\n",
       "\n",
       "    .dataframe tbody tr th {\n",
       "        vertical-align: top;\n",
       "    }\n",
       "\n",
       "    .dataframe thead th {\n",
       "        text-align: right;\n",
       "    }\n",
       "</style>\n",
       "<table border=\"1\" class=\"dataframe\">\n",
       "  <thead>\n",
       "    <tr style=\"text-align: right;\">\n",
       "      <th></th>\n",
       "      <th>城市</th>\n",
       "      <th>名称</th>\n",
       "      <th>上牌时间</th>\n",
       "      <th>品牌</th>\n",
       "      <th>表显里程</th>\n",
       "      <th>排量</th>\n",
       "      <th>变速箱</th>\n",
       "      <th>原价</th>\n",
       "      <th>售价</th>\n",
       "      <th>排放标准</th>\n",
       "      <th>...</th>\n",
       "      <th>行李箱容积</th>\n",
       "      <th>整备质量</th>\n",
       "      <th>进气形式</th>\n",
       "      <th>气缸数</th>\n",
       "      <th>最大马力</th>\n",
       "      <th>最大扭矩</th>\n",
       "      <th>燃料类型</th>\n",
       "      <th>燃油标号</th>\n",
       "      <th>供油方式</th>\n",
       "      <th>车龄</th>\n",
       "    </tr>\n",
       "  </thead>\n",
       "  <tbody>\n",
       "    <tr>\n",
       "      <th>585</th>\n",
       "      <td>郑州</td>\n",
       "      <td>奔驰E级 2021款 改款 E 300 L 豪华型</td>\n",
       "      <td>2021</td>\n",
       "      <td>奔驰E级</td>\n",
       "      <td>0.01</td>\n",
       "      <td>2.0</td>\n",
       "      <td>自动</td>\n",
       "      <td>NaN</td>\n",
       "      <td>50.50</td>\n",
       "      <td>国六</td>\n",
       "      <td>...</td>\n",
       "      <td>-</td>\n",
       "      <td>-</td>\n",
       "      <td>涡轮增压</td>\n",
       "      <td>4缸</td>\n",
       "      <td>258</td>\n",
       "      <td>370</td>\n",
       "      <td>汽油</td>\n",
       "      <td>95号</td>\n",
       "      <td>直喷</td>\n",
       "      <td>0</td>\n",
       "    </tr>\n",
       "    <tr>\n",
       "      <th>1049</th>\n",
       "      <td>中山</td>\n",
       "      <td>别克 英朗 2021款 18T 自动轻混动精英型</td>\n",
       "      <td>2021</td>\n",
       "      <td>别克</td>\n",
       "      <td>0.68</td>\n",
       "      <td>1.3</td>\n",
       "      <td>自动</td>\n",
       "      <td>NaN</td>\n",
       "      <td>7.68</td>\n",
       "      <td>国六</td>\n",
       "      <td>...</td>\n",
       "      <td>-</td>\n",
       "      <td>1285</td>\n",
       "      <td>涡轮增压</td>\n",
       "      <td>3缸</td>\n",
       "      <td>163</td>\n",
       "      <td>230</td>\n",
       "      <td>汽油+48V轻混系统</td>\n",
       "      <td>92号</td>\n",
       "      <td>多点电喷</td>\n",
       "      <td>0</td>\n",
       "    </tr>\n",
       "    <tr>\n",
       "      <th>3090</th>\n",
       "      <td>北京</td>\n",
       "      <td>东南A5翼舞 2021款 1.5L 手动翼豪版</td>\n",
       "      <td>2021</td>\n",
       "      <td>东南A5翼舞</td>\n",
       "      <td>0.60</td>\n",
       "      <td>1.5</td>\n",
       "      <td>手动</td>\n",
       "      <td>NaN</td>\n",
       "      <td>5.28</td>\n",
       "      <td>国六</td>\n",
       "      <td>...</td>\n",
       "      <td>-</td>\n",
       "      <td>1210</td>\n",
       "      <td>自然吸气</td>\n",
       "      <td>4缸</td>\n",
       "      <td>120</td>\n",
       "      <td>143</td>\n",
       "      <td>汽油</td>\n",
       "      <td>92号</td>\n",
       "      <td>多点电喷</td>\n",
       "      <td>0</td>\n",
       "    </tr>\n",
       "    <tr>\n",
       "      <th>1535</th>\n",
       "      <td>武汉</td>\n",
       "      <td>别克GL8 2021款 陆上公务舱 652T 尊贵型</td>\n",
       "      <td>2021</td>\n",
       "      <td>别克GL8</td>\n",
       "      <td>0.93</td>\n",
       "      <td>2.0</td>\n",
       "      <td>自动</td>\n",
       "      <td>NaN</td>\n",
       "      <td>28.00</td>\n",
       "      <td>国六</td>\n",
       "      <td>...</td>\n",
       "      <td>475-1605</td>\n",
       "      <td>1900</td>\n",
       "      <td>涡轮增压</td>\n",
       "      <td>4缸</td>\n",
       "      <td>237</td>\n",
       "      <td>350</td>\n",
       "      <td>汽油</td>\n",
       "      <td>95号</td>\n",
       "      <td>直喷</td>\n",
       "      <td>0</td>\n",
       "    </tr>\n",
       "    <tr>\n",
       "      <th>4976</th>\n",
       "      <td>上海</td>\n",
       "      <td>玛莎拉蒂Levante 2021款 3.0T 标准版</td>\n",
       "      <td>2021</td>\n",
       "      <td>玛莎拉蒂Levante</td>\n",
       "      <td>0.01</td>\n",
       "      <td>3.0</td>\n",
       "      <td>自动</td>\n",
       "      <td>NaN</td>\n",
       "      <td>95.98</td>\n",
       "      <td>国六</td>\n",
       "      <td>...</td>\n",
       "      <td>580</td>\n",
       "      <td>2109</td>\n",
       "      <td>双涡轮增压</td>\n",
       "      <td>6缸</td>\n",
       "      <td>350</td>\n",
       "      <td>500</td>\n",
       "      <td>汽油</td>\n",
       "      <td>95号</td>\n",
       "      <td>直喷</td>\n",
       "      <td>0</td>\n",
       "    </tr>\n",
       "  </tbody>\n",
       "</table>\n",
       "<p>5 rows × 27 columns</p>\n",
       "</div>"
      ],
      "text/plain": [
       "      城市                          名称  上牌时间           品牌  表显里程   排量 变速箱  原价  \\\n",
       "585   郑州   奔驰E级 2021款 改款 E 300 L 豪华型  2021         奔驰E级  0.01  2.0  自动 NaN   \n",
       "1049  中山    别克 英朗 2021款 18T 自动轻混动精英型  2021           别克  0.68  1.3  自动 NaN   \n",
       "3090  北京     东南A5翼舞 2021款 1.5L 手动翼豪版  2021       东南A5翼舞  0.60  1.5  手动 NaN   \n",
       "1535  武汉  别克GL8 2021款 陆上公务舱 652T 尊贵型  2021        别克GL8  0.93  2.0  自动 NaN   \n",
       "4976  上海  玛莎拉蒂Levante 2021款 3.0T 标准版  2021  玛莎拉蒂Levante  0.01  3.0  自动 NaN   \n",
       "\n",
       "         售价 排放标准  ...     行李箱容积  整备质量   进气形式 气缸数  最大马力 最大扭矩        燃料类型 燃油标号  \\\n",
       "585   50.50   国六  ...         -     -   涡轮增压  4缸   258  370          汽油  95号   \n",
       "1049   7.68   国六  ...         -  1285   涡轮增压  3缸   163  230  汽油+48V轻混系统  92号   \n",
       "3090   5.28   国六  ...         -  1210   自然吸气  4缸   120  143          汽油  92号   \n",
       "1535  28.00   国六  ...  475-1605  1900   涡轮增压  4缸   237  350          汽油  95号   \n",
       "4976  95.98   国六  ...       580  2109  双涡轮增压  6缸   350  500          汽油  95号   \n",
       "\n",
       "      供油方式 车龄  \n",
       "585     直喷  0  \n",
       "1049  多点电喷  0  \n",
       "3090  多点电喷  0  \n",
       "1535    直喷  0  \n",
       "4976    直喷  0  \n",
       "\n",
       "[5 rows x 27 columns]"
      ]
     },
     "execution_count": 49,
     "metadata": {},
     "output_type": "execute_result"
    }
   ],
   "source": [
    "#将数据按照车龄升序排列\n",
    "data.sort_values(by=\"车龄\",inplace=True)\n",
    "data.head()"
   ]
  },
  {
   "cell_type": "code",
   "execution_count": 50,
   "metadata": {},
   "outputs": [
    {
     "data": {
      "text/plain": [
       "<AxesSubplot:>"
      ]
     },
     "execution_count": 50,
     "metadata": {},
     "output_type": "execute_result"
    },
    {
     "data": {
      "image/png": "[encoded data removed]",
      "text/plain": [
       "<Figure size 432x288 with 1 Axes>"
      ]
     },
     "metadata": {
      "needs_background": "light"
     },
     "output_type": "display_data"
    }
   ],
   "source": [
    "#排放标准\n",
    "discharge = data['排放标准'].value_counts()\n",
    "discharge.plot(kind = 'bar')"
   ]
  },
  {
   "cell_type": "code",
   "execution_count": 51,
   "metadata": {},
   "outputs": [
    {
     "data": {
      "text/plain": [
       "Text(0, 0.5, '车辆总数')"
      ]
     },
     "execution_count": 51,
     "metadata": {},
     "output_type": "execute_result"
    },
    {
     "data": {
      "image/png": "[encoded data removed]",
      "text/plain": [
       "<Figure size 432x288 with 1 Axes>"
      ]
     },
     "metadata": {
      "needs_background": "light"
     },
     "output_type": "display_data"
    }
   ],
   "source": [
    "#排放标准\n",
    "discharge = data['燃油标号'].value_counts()\n",
    "discharge.plot(kind = 'bar')\n",
    "plt.xlabel('燃油标号')\n",
    "plt.ylabel('车辆总数')"
   ]
  },
  {
   "cell_type": "code",
   "execution_count": 52,
   "metadata": {},
   "outputs": [],
   "source": [
    "import pandas as pd # panda库\n",
    "from sklearn.preprocessing import MinMaxScaler # 标准化库\n",
    "from sklearn.cluster import KMeans  # 导入sklearn聚类模块\n",
    "from sklearn.metrics import silhouette_score  # 效果评估模块\n",
    "#解决中文乱码\n",
    "import numpy as np \n",
    "import matplotlib.mlab as mlab \n",
    "import matplotlib.pyplot as plt\n",
    "plt.rcParams['font.sans-serif']=['SimHei']\n",
    "plt.rcParams['axes.unicode_minus']=False"
   ]
  },
  {
   "cell_type": "code",
   "execution_count": 53,
   "metadata": {},
   "outputs": [
    {
     "name": "stdout",
     "output_type": "stream",
     "text": [
      "    上牌时间  表显里程   排量     售价\n",
      "车龄                        \n",
      "3   2018  2.85  2.0  12.00\n",
      "12  2015  7.30  1.5   6.58\n",
      "3   2018  3.03  1.5   8.80\n"
     ]
    }
   ],
   "source": [
    "cluster_data = pd.read_csv('D:\\瓜子.csv',index_col='车龄')\n",
    "print(cluster_data.head(3))"
   ]
  },
  {
   "cell_type": "code",
   "execution_count": 54,
   "metadata": {},
   "outputs": [
    {
     "name": "stdout",
     "output_type": "stream",
     "text": [
      "[[0.8125     0.10092395 0.05263158 0.11309344]\n",
      " [0.625      0.25906183 0.02631579 0.05846185]]\n"
     ]
    }
   ],
   "source": [
    "scaler = MinMaxScaler() \n",
    "scaled_features = scaler.fit_transform(cluster_data) # 标准化  \n",
    "print(scaled_features[:2,:]) \n"
   ]
  },
  {
   "cell_type": "code",
   "execution_count": 55,
   "metadata": {},
   "outputs": [
    {
     "data": {
      "text/plain": [
       "KMeans(n_clusters=3, random_state=0)"
      ]
     },
     "execution_count": 55,
     "metadata": {},
     "output_type": "execute_result"
    }
   ],
   "source": [
    "model_kmeans = KMeans(n_clusters=3, random_state=0)  # 建立聚类模型对象\n",
    "model_kmeans.fit(scaled_features)  # 训练聚类模型"
   ]
  },
  {
   "cell_type": "code",
   "execution_count": 56,
   "metadata": {},
   "outputs": [
    {
     "name": "stdout",
     "output_type": "stream",
     "text": [
      "samples: 8243 \t features: 4\n",
      "silhouette score: 0.3374857199478652\n"
     ]
    }
   ],
   "source": [
    "n_samples, n_features = cluster_data.shape  # ①\n",
    "print('samples: %d \\t features: %d' % (n_samples, n_features))  # ②\n",
    "\n",
    "silhouette = silhouette_score(scaled_features, model_kmeans.labels_, metric='euclidean')  # ③使用轮廓系数（Silhouette）检验聚类模型的质量结果\n",
    "\n",
    "print('silhouette score:',silhouette)  # ④\n"
   ]
  },
  {
   "cell_type": "code",
   "execution_count": 57,
   "metadata": {},
   "outputs": [
    {
     "name": "stdout",
     "output_type": "stream",
     "text": [
      "    上牌时间  表显里程   排量     售价  labels\n",
      "车龄                                \n",
      "3   2018  2.85  2.0  12.00       2\n",
      "12  2015  7.30  1.5   6.58       0\n",
      "3   2018  3.03  1.5   8.80       2\n"
     ]
    }
   ],
   "source": [
    "kmeans_labels = pd.DataFrame(model_kmeans.labels_,index=cluster_data.index,columns=['labels'])  # ①\n",
    "\n",
    "kmeans_data = pd.concat((cluster_data,kmeans_labels),axis=1)  # ②将原始数据框和聚类结果数据框按列合并\n",
    "\n",
    "print(kmeans_data.head(3))  # ③\n"
   ]
  },
  {
   "cell_type": "code",
   "execution_count": 58,
   "metadata": {},
   "outputs": [
    {
     "name": "stdout",
     "output_type": "stream",
     "text": [
      "   labels         上牌时间       表显里程        排量         售价\n",
      "0       0  2014.706239   6.543050  1.733102   9.676438\n",
      "1       1  2011.131811  11.032800  1.991426   7.833958\n",
      "2       2  2018.054267   3.169116  1.669147  14.572495\n"
     ]
    }
   ],
   "source": [
    "radar_gb = kmeans_data.groupby('labels',as_index=False).mean()\n",
    "print(radar_gb)\n"
   ]
  },
  {
   "cell_type": "code",
   "execution_count": 59,
   "metadata": {},
   "outputs": [
    {
     "data": {
      "text/plain": [
       "<AxesSubplot:title={'center':'不同聚类分组结果对比'}, xlabel='labels'>"
      ]
     },
     "execution_count": 59,
     "metadata": {},
     "output_type": "execute_result"
    },
    {
     "data": {
      "image/png": "[encoded data removed]",
      "text/plain": [
       "<Figure size 720x288 with 1 Axes>"
      ]
     },
     "metadata": {
      "needs_background": "light"
     },
     "output_type": "display_data"
    }
   ],
   "source": [
    "radar_gb.plot(kind='bar', x='labels',y=['上牌时间','表显里程','排量','售价'], figsize=(10, 4),logy=True, title='不同聚类分组结果对比')\n"
   ]
  },
  {
   "cell_type": "code",
   "execution_count": null,
   "metadata": {},
   "outputs": [],
   "source": []
  }
 ],
 "metadata": {
  "kernelspec": {
   "display_name": "Python 3",
   "language": "python",
   "name": "python3"
  },
  "language_info": {
   "codemirror_mode": {
    "name": "ipython",
    "version": 3
   },
   "file_extension": ".py",
   "mimetype": "text/x-python",
   "name": "python",
   "nbconvert_exporter": "python",
   "pygments_lexer": "ipython3",
   "version": "3.8.5"
  }
 },
 "nbformat": 4,
 "nbformat_minor": 5
}
